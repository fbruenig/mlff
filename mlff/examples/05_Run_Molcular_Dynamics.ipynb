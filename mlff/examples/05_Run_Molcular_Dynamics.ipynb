{
 "cells": [
  {
   "cell_type": "code",
   "execution_count": null,
   "metadata": {},
   "outputs": [],
   "source": [
    "from mlff.src.md.calculator import mlffCalculator\n",
    "from mlff.src.io import read_json\n",
    "from mlff.src.nn.stacknet import init_stack_net\n",
    "from flax.training import checkpoints\n",
    "import os\n",
    "from ase import units\n",
    "from ase import Atoms\n",
    "from ase.optimize import QuasiNewton\n",
    "from ase.md.langevin import Langevin\n",
    "from ase.md.verlet import VelocityVerlet\n",
    "from ase.md.velocitydistribution import (MaxwellBoltzmannDistribution, Stationary, ZeroRotation)\n",
    "from ase.io import read\n",
    "from ase.io.trajectory import Trajectory\n",
    "from ase.visualize import view\n",
    "from tqdm import tqdm"
   ]
  },
  {
   "cell_type": "markdown",
   "metadata": {},
   "source": [
    "# Build an ASE Calculator"
   ]
  },
  {
   "cell_type": "markdown",
   "metadata": {},
   "source": [
    "We load our model that we trained in the Learning_Force_Fields example and construct an ASE calculator from the mlff interface. One can pass an `n_interactions_max` value to the calculator, which sets the maximal number of \n",
    "pairwise interactions before the energy and force functions are recompiled. If `n_interactions_max=None`, this can results in recompiling any time the total number of interactions changes. This actually happens quite often, which\n",
    "is why we suggest to pass a number here. A good estimate is usually given by calculating the average neighborhood size given the cutoff radius, add 1 or 2 to this result and mutliply it with the total number of atoms in the \n",
    "system."
   ]
  },
  {
   "cell_type": "code",
   "execution_count": null,
   "metadata": {},
   "outputs": [],
   "source": [
    "load_path = 'example_model/module/'\n",
    "h = read_json(os.path.join(load_path, 'hyperparameters.json'))\n",
    "\n",
    "stack_net = init_stack_net(h)\n",
    "params = checkpoints.restore_checkpoint(load_path, target=None, prefix='checkpoint_loss_')['params']\n",
    "calc = mlffCalculator(params=params, stack_net=stack_net, n_interactions_max=None)"
   ]
  },
  {
   "cell_type": "markdown",
   "metadata": {},
   "source": [
    "# Run MD in ASE"
   ]
  },
  {
   "cell_type": "code",
   "execution_count": null,
   "metadata": {
    "scrolled": true
   },
   "outputs": [],
   "source": [
    "mol = read('example_data/md_start_point_ethanol.xyz')\n",
    "mol.set_calculator(calc)\n",
    "\n",
    "# do a quick geometry relaxation\n",
    "qn = QuasiNewton(mol)\n",
    "qn.run(1e-4, 100)\n",
    "\n",
    "# # set the momenta corresponding to T=300K\n",
    "# MaxwellBoltzmannDistribution(mol, temperature_K=300)\n",
    "# Stationary(mol)  # zero linear momentum\n",
    "# ZeroRotation(mol)  # zero angular momentum\n",
    "\n",
    "dyn = Langevin(mol, 0.2 * units.fs, temperature_K=300, friction=0.002, trajectory='example_data/md_ethanol_langevin.traj')\n",
    "def printenergy(a):\n",
    "        # function to print the potential, kinetic and total energy\n",
    "        epot = a.get_potential_energy() / len(a)\n",
    "        ekin = a.get_kinetic_energy() / len(a)\n",
    "        print('Energy per atom: Epot = %.3feV  Ekin = %.3feV (T=%3.0fK)  '\n",
    "                'Etot = %.3feV' % (epot, ekin, ekin / (1.5 * units.kB), epot + ekin))\n",
    "\n",
    "# now run the dynamics\n",
    "n_steps = 1000\n",
    "printenergy(mol)\n",
    "for i in range(n_steps):\n",
    "    if i % 10 == 0:\n",
    "        print('{} / {}'.format(i, n_steps))\n",
    "    dyn.run(10)\n",
    "    printenergy(mol)"
   ]
  },
  {
   "cell_type": "code",
   "execution_count": null,
   "metadata": {},
   "outputs": [],
   "source": [
    "# install nglview to execute the cell from https://github.com/nglviewer/nglview#installation\n",
    "# TODO: visualization currently breaks ... \n",
    "traj = Trajectory('example_data/md_ethanol_langevin.traj')\n",
    "pos = []\n",
    "sym = []\n",
    "atoms = []\n",
    "atoms = [a for n, a in enumerate(traj) if n % 5 == 0]\n",
    "v = view(atoms, viewer='ngl')\n",
    "v.view.add_ball_and_stick()\n",
    "v"
   ]
  }
 ],
 "metadata": {
  "kernelspec": {
   "display_name": "mlff-public",
   "language": "python",
   "name": "mlff-public"
  },
  "language_info": {
   "codemirror_mode": {
    "name": "ipython",
    "version": 3
   },
   "file_extension": ".py",
   "mimetype": "text/x-python",
   "name": "python",
   "nbconvert_exporter": "python",
   "pygments_lexer": "ipython3",
   "version": "3.7.10"
  }
 },
 "nbformat": 4,
 "nbformat_minor": 4
}
